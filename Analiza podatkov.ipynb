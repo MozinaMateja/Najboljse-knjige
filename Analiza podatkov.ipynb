{
 "cells": [
  {
   "cell_type": "markdown",
   "metadata": {},
   "source": [
    "# Najboljše knjige iz seznama Best Books Ever"
   ]
  },
  {
   "cell_type": "markdown",
   "metadata": {},
   "source": [
    "## Projektna naloga\n",
    "Analizirala bom najbolj najboljše knjige po izboru bralcev iz seznama Best Books Ever na strani Goodreads z uporabo Pandas. Na seznamu bo samo prvih 500 knjig."
   ]
  },
  {
   "cell_type": "markdown",
   "metadata": {},
   "source": [
    "Za vsako knjigo bo zajeto:\n",
    "- naslov,\n",
    "- avtor,\n",
    "- ocena,\n",
    "- število ocen,\n",
    "- število glasov,\n",
    "- format,\n",
    "- števil strani,\n",
    "- leto,\n",
    "- jezik in\n",
    "- žanr\n"
   ]
  },
  {
   "cell_type": "markdown",
   "metadata": {},
   "source": [
    "Hipoteze:\n",
    "- Kateri avtor se največkrat pojavi?\n",
    "- Največkrat se pojavijo knjige v angleščini\n",
    "- Največkrat se pojavijo knjige iz žanra \"classics\"\n",
    "- Ali število ocen vpliva na oceno?\n",
    "- Največkrat se pojavijo trdovezane (Hardcover) knjige\n",
    "- Katero je bilo najbolje ocenjeno leto?\n",
    "- Boljšo oceno imajo knjige v zbirki kot samostojne knjige\n",
    "- Kateri žanr ima najboljšo oceno?\n",
    "- Kateri žanr je največkrat ocenjen?\n",
    "- Kateri žanr ima najdaljše knjige?"
   ]
  },
  {
   "cell_type": "code",
   "execution_count": 25,
   "metadata": {},
   "outputs": [],
   "source": [
    "import pandas as pd\n",
    "pd.options.display.max_rows = 10\n",
    "%matplotlib inline\n",
    "import os.path\n",
    "csv_datoteka = os.path.join(\"obdelani-podatki\", \"knjige.csv\")\n",
    "knjige = pd.read_csv(csv_datoteka)"
   ]
  },
  {
   "cell_type": "markdown",
   "metadata": {},
   "source": [
    "### Razpredelnica s podatki"
   ]
  },
  {
   "cell_type": "code",
   "execution_count": 3,
   "metadata": {},
   "outputs": [
    {
     "data": {
      "text/html": [
       "<div>\n",
       "<style scoped>\n",
       "    .dataframe tbody tr th:only-of-type {\n",
       "        vertical-align: middle;\n",
       "    }\n",
       "\n",
       "    .dataframe tbody tr th {\n",
       "        vertical-align: top;\n",
       "    }\n",
       "\n",
       "    .dataframe thead th {\n",
       "        text-align: right;\n",
       "    }\n",
       "</style>\n",
       "<table border=\"1\" class=\"dataframe\">\n",
       "  <thead>\n",
       "    <tr style=\"text-align: right;\">\n",
       "      <th></th>\n",
       "      <th>id</th>\n",
       "      <th>naslov</th>\n",
       "      <th>zbirka</th>\n",
       "      <th>id_avtorja</th>\n",
       "      <th>avtor</th>\n",
       "      <th>ocena</th>\n",
       "      <th>stevilo_ocen</th>\n",
       "      <th>glasovi</th>\n",
       "      <th>format</th>\n",
       "      <th>stevilo_strani</th>\n",
       "      <th>leto</th>\n",
       "      <th>jezik</th>\n",
       "      <th>zanr</th>\n",
       "    </tr>\n",
       "  </thead>\n",
       "  <tbody>\n",
       "    <tr>\n",
       "      <th>0</th>\n",
       "      <td>2767052</td>\n",
       "      <td>The Hunger Games</td>\n",
       "      <td>The Hunger Games</td>\n",
       "      <td>153394</td>\n",
       "      <td>Suzanne Collins</td>\n",
       "      <td>4.32</td>\n",
       "      <td>7030124</td>\n",
       "      <td>32406</td>\n",
       "      <td>Hardcover</td>\n",
       "      <td>374</td>\n",
       "      <td>2008</td>\n",
       "      <td>English</td>\n",
       "      <td>Young Adult</td>\n",
       "    </tr>\n",
       "    <tr>\n",
       "      <th>1</th>\n",
       "      <td>2</td>\n",
       "      <td>Harry Potter and the Order of the Phoenix</td>\n",
       "      <td>Harry Potter</td>\n",
       "      <td>1077326</td>\n",
       "      <td>J.K. Rowling</td>\n",
       "      <td>4.50</td>\n",
       "      <td>2796588</td>\n",
       "      <td>28363</td>\n",
       "      <td>Paperback</td>\n",
       "      <td>870</td>\n",
       "      <td>2004</td>\n",
       "      <td>English</td>\n",
       "      <td>Fantasy</td>\n",
       "    </tr>\n",
       "    <tr>\n",
       "      <th>2</th>\n",
       "      <td>2657</td>\n",
       "      <td>To Kill a Mockingbird</td>\n",
       "      <td>NaN</td>\n",
       "      <td>1825</td>\n",
       "      <td>Harper Lee</td>\n",
       "      <td>4.27</td>\n",
       "      <td>5004737</td>\n",
       "      <td>24711</td>\n",
       "      <td>Paperback</td>\n",
       "      <td>324</td>\n",
       "      <td>2006</td>\n",
       "      <td>English</td>\n",
       "      <td>Classics</td>\n",
       "    </tr>\n",
       "    <tr>\n",
       "      <th>3</th>\n",
       "      <td>1885</td>\n",
       "      <td>Pride and Prejudice</td>\n",
       "      <td>NaN</td>\n",
       "      <td>1265</td>\n",
       "      <td>Jane Austen</td>\n",
       "      <td>4.27</td>\n",
       "      <td>3390660</td>\n",
       "      <td>22410</td>\n",
       "      <td>Paperback</td>\n",
       "      <td>279</td>\n",
       "      <td>2000</td>\n",
       "      <td>English</td>\n",
       "      <td>Classics</td>\n",
       "    </tr>\n",
       "    <tr>\n",
       "      <th>4</th>\n",
       "      <td>41865</td>\n",
       "      <td>Twilight</td>\n",
       "      <td>The Twilight Saga</td>\n",
       "      <td>941441</td>\n",
       "      <td>Stephenie Meyer</td>\n",
       "      <td>3.62</td>\n",
       "      <td>5469753</td>\n",
       "      <td>15436</td>\n",
       "      <td>ebook</td>\n",
       "      <td>387</td>\n",
       "      <td>2006</td>\n",
       "      <td>English</td>\n",
       "      <td>Young Adult</td>\n",
       "    </tr>\n",
       "    <tr>\n",
       "      <th>...</th>\n",
       "      <td>...</td>\n",
       "      <td>...</td>\n",
       "      <td>...</td>\n",
       "      <td>...</td>\n",
       "      <td>...</td>\n",
       "      <td>...</td>\n",
       "      <td>...</td>\n",
       "      <td>...</td>\n",
       "      <td>...</td>\n",
       "      <td>...</td>\n",
       "      <td>...</td>\n",
       "      <td>...</td>\n",
       "      <td>...</td>\n",
       "    </tr>\n",
       "    <tr>\n",
       "      <th>495</th>\n",
       "      <td>3087</td>\n",
       "      <td>A Room with a View</td>\n",
       "      <td>NaN</td>\n",
       "      <td>86404</td>\n",
       "      <td>E.M. Forster</td>\n",
       "      <td>3.91</td>\n",
       "      <td>161039</td>\n",
       "      <td>303</td>\n",
       "      <td>Paperback</td>\n",
       "      <td>119</td>\n",
       "      <td>2005</td>\n",
       "      <td>English</td>\n",
       "      <td>Classics</td>\n",
       "    </tr>\n",
       "    <tr>\n",
       "      <th>496</th>\n",
       "      <td>30289</td>\n",
       "      <td>The Republic</td>\n",
       "      <td>NaN</td>\n",
       "      <td>879</td>\n",
       "      <td>Plato</td>\n",
       "      <td>3.95</td>\n",
       "      <td>184611</td>\n",
       "      <td>296</td>\n",
       "      <td>Paperback</td>\n",
       "      <td>416</td>\n",
       "      <td>2003</td>\n",
       "      <td>English</td>\n",
       "      <td>Philosophy</td>\n",
       "    </tr>\n",
       "    <tr>\n",
       "      <th>497</th>\n",
       "      <td>4137</td>\n",
       "      <td>Me Talk Pretty One Day</td>\n",
       "      <td>NaN</td>\n",
       "      <td>2849</td>\n",
       "      <td>David Sedaris</td>\n",
       "      <td>3.99</td>\n",
       "      <td>654871</td>\n",
       "      <td>271</td>\n",
       "      <td>Paperback</td>\n",
       "      <td>272</td>\n",
       "      <td>2001</td>\n",
       "      <td>English</td>\n",
       "      <td>Nonfiction</td>\n",
       "    </tr>\n",
       "    <tr>\n",
       "      <th>498</th>\n",
       "      <td>31242</td>\n",
       "      <td>Bleak House</td>\n",
       "      <td>NaN</td>\n",
       "      <td>239579</td>\n",
       "      <td>Charles Dickens</td>\n",
       "      <td>4.00</td>\n",
       "      <td>106047</td>\n",
       "      <td>275</td>\n",
       "      <td>Paperback</td>\n",
       "      <td>1017</td>\n",
       "      <td>2006</td>\n",
       "      <td>English</td>\n",
       "      <td>Classics</td>\n",
       "    </tr>\n",
       "    <tr>\n",
       "      <th>499</th>\n",
       "      <td>1326258</td>\n",
       "      <td>Chosen</td>\n",
       "      <td>House of Night</td>\n",
       "      <td>17015</td>\n",
       "      <td>P.C. Cast</td>\n",
       "      <td>3.91</td>\n",
       "      <td>234791</td>\n",
       "      <td>260</td>\n",
       "      <td>Paperback</td>\n",
       "      <td>307</td>\n",
       "      <td>2008</td>\n",
       "      <td>English</td>\n",
       "      <td>Young Adult</td>\n",
       "    </tr>\n",
       "  </tbody>\n",
       "</table>\n",
       "<p>500 rows × 13 columns</p>\n",
       "</div>"
      ],
      "text/plain": [
       "          id                                     naslov             zbirka  \\\n",
       "0    2767052                           The Hunger Games   The Hunger Games   \n",
       "1          2  Harry Potter and the Order of the Phoenix       Harry Potter   \n",
       "2       2657                      To Kill a Mockingbird                NaN   \n",
       "3       1885                        Pride and Prejudice                NaN   \n",
       "4      41865                                   Twilight  The Twilight Saga   \n",
       "..       ...                                        ...                ...   \n",
       "495     3087                         A Room with a View                NaN   \n",
       "496    30289                               The Republic                NaN   \n",
       "497     4137                     Me Talk Pretty One Day                NaN   \n",
       "498    31242                                Bleak House                NaN   \n",
       "499  1326258                                     Chosen     House of Night   \n",
       "\n",
       "     id_avtorja            avtor  ocena  stevilo_ocen  glasovi     format  \\\n",
       "0        153394  Suzanne Collins   4.32       7030124    32406  Hardcover   \n",
       "1       1077326     J.K. Rowling   4.50       2796588    28363  Paperback   \n",
       "2          1825       Harper Lee   4.27       5004737    24711  Paperback   \n",
       "3          1265      Jane Austen   4.27       3390660    22410  Paperback   \n",
       "4        941441  Stephenie Meyer   3.62       5469753    15436      ebook   \n",
       "..          ...              ...    ...           ...      ...        ...   \n",
       "495       86404     E.M. Forster   3.91        161039      303  Paperback   \n",
       "496         879            Plato   3.95        184611      296  Paperback   \n",
       "497        2849    David Sedaris   3.99        654871      271  Paperback   \n",
       "498      239579  Charles Dickens   4.00        106047      275  Paperback   \n",
       "499       17015        P.C. Cast   3.91        234791      260  Paperback   \n",
       "\n",
       "     stevilo_strani  leto    jezik         zanr  \n",
       "0               374  2008  English  Young Adult  \n",
       "1               870  2004  English      Fantasy  \n",
       "2               324  2006  English     Classics  \n",
       "3               279  2000  English     Classics  \n",
       "4               387  2006  English  Young Adult  \n",
       "..              ...   ...      ...          ...  \n",
       "495             119  2005  English     Classics  \n",
       "496             416  2003  English   Philosophy  \n",
       "497             272  2001  English   Nonfiction  \n",
       "498            1017  2006  English     Classics  \n",
       "499             307  2008  English  Young Adult  \n",
       "\n",
       "[500 rows x 13 columns]"
      ]
     },
     "execution_count": 3,
     "metadata": {},
     "output_type": "execute_result"
    }
   ],
   "source": [
    "knjige"
   ]
  },
  {
   "cell_type": "markdown",
   "metadata": {},
   "source": [
    "### 1. Kateri avtorji se največkrat pojavijo?"
   ]
  },
  {
   "cell_type": "code",
   "execution_count": 26,
   "metadata": {},
   "outputs": [
    {
     "data": {
      "text/html": [
       "<div>\n",
       "<style scoped>\n",
       "    .dataframe tbody tr th:only-of-type {\n",
       "        vertical-align: middle;\n",
       "    }\n",
       "\n",
       "    .dataframe tbody tr th {\n",
       "        vertical-align: top;\n",
       "    }\n",
       "\n",
       "    .dataframe thead th {\n",
       "        text-align: right;\n",
       "    }\n",
       "</style>\n",
       "<table border=\"1\" class=\"dataframe\">\n",
       "  <thead>\n",
       "    <tr style=\"text-align: right;\">\n",
       "      <th></th>\n",
       "      <th>pojavitve</th>\n",
       "    </tr>\n",
       "    <tr>\n",
       "      <th>id_avtorja</th>\n",
       "      <th></th>\n",
       "    </tr>\n",
       "  </thead>\n",
       "  <tbody>\n",
       "    <tr>\n",
       "      <th>8719</th>\n",
       "      <td>1</td>\n",
       "    </tr>\n",
       "    <tr>\n",
       "      <th>12942</th>\n",
       "      <td>1</td>\n",
       "    </tr>\n",
       "    <tr>\n",
       "      <th>13677</th>\n",
       "      <td>1</td>\n",
       "    </tr>\n",
       "    <tr>\n",
       "      <th>13778</th>\n",
       "      <td>1</td>\n",
       "    </tr>\n",
       "    <tr>\n",
       "      <th>13957</th>\n",
       "      <td>1</td>\n",
       "    </tr>\n",
       "    <tr>\n",
       "      <th>...</th>\n",
       "      <td>...</td>\n",
       "    </tr>\n",
       "    <tr>\n",
       "      <th>137902</th>\n",
       "      <td>6</td>\n",
       "    </tr>\n",
       "    <tr>\n",
       "      <th>150038</th>\n",
       "      <td>7</td>\n",
       "    </tr>\n",
       "    <tr>\n",
       "      <th>1077326</th>\n",
       "      <td>9</td>\n",
       "    </tr>\n",
       "    <tr>\n",
       "      <th>15872</th>\n",
       "      <td>9</td>\n",
       "    </tr>\n",
       "    <tr>\n",
       "      <th>3389</th>\n",
       "      <td>10</td>\n",
       "    </tr>\n",
       "  </tbody>\n",
       "</table>\n",
       "<p>330 rows × 1 columns</p>\n",
       "</div>"
      ],
      "text/plain": [
       "            pojavitve\n",
       "id_avtorja           \n",
       "8719                1\n",
       "12942               1\n",
       "13677               1\n",
       "13778               1\n",
       "13957               1\n",
       "...               ...\n",
       "137902              6\n",
       "150038              7\n",
       "1077326             9\n",
       "15872               9\n",
       "3389               10\n",
       "\n",
       "[330 rows x 1 columns]"
      ]
     },
     "execution_count": 26,
     "metadata": {},
     "output_type": "execute_result"
    }
   ],
   "source": [
    "najveckrat_avtorji = knjige.groupby('id_avtorja').size().sort_values().to_frame('pojavitve')\n",
    "najveckrat_avtorji"
   ]
  },
  {
   "cell_type": "code",
   "execution_count": 27,
   "metadata": {},
   "outputs": [
    {
     "data": {
      "text/html": [
       "<div>\n",
       "<style scoped>\n",
       "    .dataframe tbody tr th:only-of-type {\n",
       "        vertical-align: middle;\n",
       "    }\n",
       "\n",
       "    .dataframe tbody tr th {\n",
       "        vertical-align: top;\n",
       "    }\n",
       "\n",
       "    .dataframe thead th {\n",
       "        text-align: right;\n",
       "    }\n",
       "</style>\n",
       "<table border=\"1\" class=\"dataframe\">\n",
       "  <thead>\n",
       "    <tr style=\"text-align: right;\">\n",
       "      <th></th>\n",
       "      <th>id_avtorja</th>\n",
       "      <th>avtor</th>\n",
       "    </tr>\n",
       "  </thead>\n",
       "  <tbody>\n",
       "    <tr>\n",
       "      <th>0</th>\n",
       "      <td>153394</td>\n",
       "      <td>Suzanne Collins</td>\n",
       "    </tr>\n",
       "    <tr>\n",
       "      <th>1</th>\n",
       "      <td>1077326</td>\n",
       "      <td>J.K. Rowling</td>\n",
       "    </tr>\n",
       "    <tr>\n",
       "      <th>2</th>\n",
       "      <td>1825</td>\n",
       "      <td>Harper Lee</td>\n",
       "    </tr>\n",
       "    <tr>\n",
       "      <th>3</th>\n",
       "      <td>1265</td>\n",
       "      <td>Jane Austen</td>\n",
       "    </tr>\n",
       "    <tr>\n",
       "      <th>4</th>\n",
       "      <td>941441</td>\n",
       "      <td>Stephenie Meyer</td>\n",
       "    </tr>\n",
       "    <tr>\n",
       "      <th>...</th>\n",
       "      <td>...</td>\n",
       "      <td>...</td>\n",
       "    </tr>\n",
       "    <tr>\n",
       "      <th>495</th>\n",
       "      <td>86404</td>\n",
       "      <td>E.M. Forster</td>\n",
       "    </tr>\n",
       "    <tr>\n",
       "      <th>496</th>\n",
       "      <td>879</td>\n",
       "      <td>Plato</td>\n",
       "    </tr>\n",
       "    <tr>\n",
       "      <th>497</th>\n",
       "      <td>2849</td>\n",
       "      <td>David Sedaris</td>\n",
       "    </tr>\n",
       "    <tr>\n",
       "      <th>498</th>\n",
       "      <td>239579</td>\n",
       "      <td>Charles Dickens</td>\n",
       "    </tr>\n",
       "    <tr>\n",
       "      <th>499</th>\n",
       "      <td>17015</td>\n",
       "      <td>P.C. Cast</td>\n",
       "    </tr>\n",
       "  </tbody>\n",
       "</table>\n",
       "<p>500 rows × 2 columns</p>\n",
       "</div>"
      ],
      "text/plain": [
       "     id_avtorja            avtor\n",
       "0        153394  Suzanne Collins\n",
       "1       1077326     J.K. Rowling\n",
       "2          1825       Harper Lee\n",
       "3          1265      Jane Austen\n",
       "4        941441  Stephenie Meyer\n",
       "..          ...              ...\n",
       "495       86404     E.M. Forster\n",
       "496         879            Plato\n",
       "497        2849    David Sedaris\n",
       "498      239579  Charles Dickens\n",
       "499       17015        P.C. Cast\n",
       "\n",
       "[500 rows x 2 columns]"
      ]
     },
     "execution_count": 27,
     "metadata": {},
     "output_type": "execute_result"
    }
   ],
   "source": [
    "imena_avtorjev = knjige[['id_avtorja', 'avtor']]\n",
    "imena_avtorjev"
   ]
  },
  {
   "cell_type": "markdown",
   "metadata": {},
   "source": [
    "Razpredelnica z id-ji avtorja in njihovimi imeni."
   ]
  },
  {
   "cell_type": "code",
   "execution_count": 28,
   "metadata": {},
   "outputs": [
    {
     "data": {
      "text/html": [
       "<div>\n",
       "<style scoped>\n",
       "    .dataframe tbody tr th:only-of-type {\n",
       "        vertical-align: middle;\n",
       "    }\n",
       "\n",
       "    .dataframe tbody tr th {\n",
       "        vertical-align: top;\n",
       "    }\n",
       "\n",
       "    .dataframe thead th {\n",
       "        text-align: right;\n",
       "    }\n",
       "</style>\n",
       "<table border=\"1\" class=\"dataframe\">\n",
       "  <thead>\n",
       "    <tr style=\"text-align: right;\">\n",
       "      <th></th>\n",
       "      <th>id_avtorja</th>\n",
       "      <th>pojavitve</th>\n",
       "      <th>avtor</th>\n",
       "    </tr>\n",
       "  </thead>\n",
       "  <tbody>\n",
       "    <tr>\n",
       "      <th>0</th>\n",
       "      <td>8719</td>\n",
       "      <td>1</td>\n",
       "      <td>Donna Tartt</td>\n",
       "    </tr>\n",
       "    <tr>\n",
       "      <th>1</th>\n",
       "      <td>12942</td>\n",
       "      <td>1</td>\n",
       "      <td>Judy Blume</td>\n",
       "    </tr>\n",
       "    <tr>\n",
       "      <th>2</th>\n",
       "      <td>13677</td>\n",
       "      <td>1</td>\n",
       "      <td>Gail Carson Levine</td>\n",
       "    </tr>\n",
       "    <tr>\n",
       "      <th>3</th>\n",
       "      <td>13778</td>\n",
       "      <td>1</td>\n",
       "      <td>Bill Watterson</td>\n",
       "    </tr>\n",
       "    <tr>\n",
       "      <th>4</th>\n",
       "      <td>13957</td>\n",
       "      <td>1</td>\n",
       "      <td>Scott Westerfeld</td>\n",
       "    </tr>\n",
       "    <tr>\n",
       "      <th>...</th>\n",
       "      <td>...</td>\n",
       "      <td>...</td>\n",
       "      <td>...</td>\n",
       "    </tr>\n",
       "    <tr>\n",
       "      <th>325</th>\n",
       "      <td>137902</td>\n",
       "      <td>6</td>\n",
       "      <td>Richelle Mead</td>\n",
       "    </tr>\n",
       "    <tr>\n",
       "      <th>326</th>\n",
       "      <td>150038</td>\n",
       "      <td>7</td>\n",
       "      <td>Cassandra Clare</td>\n",
       "    </tr>\n",
       "    <tr>\n",
       "      <th>327</th>\n",
       "      <td>1077326</td>\n",
       "      <td>9</td>\n",
       "      <td>J.K. Rowling</td>\n",
       "    </tr>\n",
       "    <tr>\n",
       "      <th>328</th>\n",
       "      <td>15872</td>\n",
       "      <td>9</td>\n",
       "      <td>Rick Riordan</td>\n",
       "    </tr>\n",
       "    <tr>\n",
       "      <th>329</th>\n",
       "      <td>3389</td>\n",
       "      <td>10</td>\n",
       "      <td>Stephen King</td>\n",
       "    </tr>\n",
       "  </tbody>\n",
       "</table>\n",
       "<p>330 rows × 3 columns</p>\n",
       "</div>"
      ],
      "text/plain": [
       "     id_avtorja  pojavitve               avtor\n",
       "0          8719          1         Donna Tartt\n",
       "1         12942          1          Judy Blume\n",
       "2         13677          1  Gail Carson Levine\n",
       "3         13778          1      Bill Watterson\n",
       "4         13957          1    Scott Westerfeld\n",
       "..          ...        ...                 ...\n",
       "325      137902          6       Richelle Mead\n",
       "326      150038          7     Cassandra Clare\n",
       "327     1077326          9        J.K. Rowling\n",
       "328       15872          9        Rick Riordan\n",
       "329        3389         10        Stephen King\n",
       "\n",
       "[330 rows x 3 columns]"
      ]
     },
     "execution_count": 28,
     "metadata": {},
     "output_type": "execute_result"
    }
   ],
   "source": [
    "imena_in_pojavitve = pd.merge(najveckrat_avtorji, imena_avtorjev, left_on='id_avtorja', right_on='id_avtorja').drop_duplicates().reset_index(drop=True)\n",
    "imena_in_pojavitve"
   ]
  },
  {
   "cell_type": "markdown",
   "metadata": {},
   "source": [
    "Največkrat se pojavi Stephen King z 10 knjigami, sledta mu Rick Riordan in J.K.Rowling z 9 knjigami."
   ]
  },
  {
   "cell_type": "markdown",
   "metadata": {},
   "source": [
    "### 2. Največ knjig je v angleščini"
   ]
  },
  {
   "cell_type": "code",
   "execution_count": 32,
   "metadata": {},
   "outputs": [
    {
     "data": {
      "text/plain": [
       "jezik\n",
       "French       1\n",
       "Persian      1\n",
       "Spanish      1\n",
       "Arabic       3\n",
       "English    492\n",
       "dtype: int64"
      ]
     },
     "execution_count": 32,
     "metadata": {},
     "output_type": "execute_result"
    }
   ],
   "source": [
    "jezik_knjig = knjige.groupby('jezik').size().sort_values()\n",
    "jezik_knjig"
   ]
  },
  {
   "cell_type": "markdown",
   "metadata": {},
   "source": [
    "Skoraj vse knjige so v angleščini, z izjemo šestih: treh v arabščini,ene v francoščini, ene v perzijščini in ene v španščini."
   ]
  },
  {
   "cell_type": "markdown",
   "metadata": {},
   "source": [
    "### 3. Največkrat se pojavijo knjige iz žanra \"classics\""
   ]
  },
  {
   "cell_type": "code",
   "execution_count": 35,
   "metadata": {},
   "outputs": [
    {
     "data": {
      "text/html": [
       "<div>\n",
       "<style scoped>\n",
       "    .dataframe tbody tr th:only-of-type {\n",
       "        vertical-align: middle;\n",
       "    }\n",
       "\n",
       "    .dataframe tbody tr th {\n",
       "        vertical-align: top;\n",
       "    }\n",
       "\n",
       "    .dataframe thead th {\n",
       "        text-align: right;\n",
       "    }\n",
       "</style>\n",
       "<table border=\"1\" class=\"dataframe\">\n",
       "  <thead>\n",
       "    <tr style=\"text-align: right;\">\n",
       "      <th></th>\n",
       "      <th>število</th>\n",
       "    </tr>\n",
       "    <tr>\n",
       "      <th>zanr</th>\n",
       "      <th></th>\n",
       "    </tr>\n",
       "  </thead>\n",
       "  <tbody>\n",
       "    <tr>\n",
       "      <th>Academic</th>\n",
       "      <td>1</td>\n",
       "    </tr>\n",
       "    <tr>\n",
       "      <th>Science</th>\n",
       "      <td>1</td>\n",
       "    </tr>\n",
       "    <tr>\n",
       "      <th>Religion</th>\n",
       "      <td>1</td>\n",
       "    </tr>\n",
       "    <tr>\n",
       "      <th>Travel</th>\n",
       "      <td>1</td>\n",
       "    </tr>\n",
       "    <tr>\n",
       "      <th>History</th>\n",
       "      <td>1</td>\n",
       "    </tr>\n",
       "    <tr>\n",
       "      <th>...</th>\n",
       "      <td>...</td>\n",
       "    </tr>\n",
       "    <tr>\n",
       "      <th>Historical</th>\n",
       "      <td>21</td>\n",
       "    </tr>\n",
       "    <tr>\n",
       "      <th>Young Adult</th>\n",
       "      <td>58</td>\n",
       "    </tr>\n",
       "    <tr>\n",
       "      <th>Fantasy</th>\n",
       "      <td>84</td>\n",
       "    </tr>\n",
       "    <tr>\n",
       "      <th>Fiction</th>\n",
       "      <td>102</td>\n",
       "    </tr>\n",
       "    <tr>\n",
       "      <th>Classics</th>\n",
       "      <td>136</td>\n",
       "    </tr>\n",
       "  </tbody>\n",
       "</table>\n",
       "<p>24 rows × 1 columns</p>\n",
       "</div>"
      ],
      "text/plain": [
       "             število\n",
       "zanr                \n",
       "Academic           1\n",
       "Science            1\n",
       "Religion           1\n",
       "Travel             1\n",
       "History            1\n",
       "...              ...\n",
       "Historical        21\n",
       "Young Adult       58\n",
       "Fantasy           84\n",
       "Fiction          102\n",
       "Classics         136\n",
       "\n",
       "[24 rows x 1 columns]"
      ]
     },
     "execution_count": 35,
     "metadata": {},
     "output_type": "execute_result"
    }
   ],
   "source": [
    "stevilo_zanra = knjige.groupby('zanr').size().sort_values().to_frame('število')\n",
    "stevilo_zanra"
   ]
  },
  {
   "cell_type": "markdown",
   "metadata": {},
   "source": [
    "Največkrat se pojavijo klasike, sledi jim fikcija, fantazijske in knjige za mladostnike. Še na grafu:"
   ]
  },
  {
   "cell_type": "code",
   "execution_count": 36,
   "metadata": {},
   "outputs": [
    {
     "data": {
      "text/plain": [
       "<AxesSubplot:xlabel='zanr'>"
      ]
     },
     "execution_count": 36,
     "metadata": {},
     "output_type": "execute_result"
    },
    {
     "data": {
      "image/png": "[encoded data removed]",
      "text/plain": [
       "<Figure size 432x288 with 1 Axes>"
      ]
     },
     "metadata": {
      "needs_background": "light"
     },
     "output_type": "display_data"
    }
   ],
   "source": [
    "stevilo_zanra.plot.bar()"
   ]
  },
  {
   "cell_type": "markdown",
   "metadata": {},
   "source": [
    "### 4. Ali število ocen vpliva na oceno?"
   ]
  },
  {
   "cell_type": "code",
   "execution_count": 37,
   "metadata": {},
   "outputs": [
    {
     "data": {
      "text/plain": [
       "<AxesSubplot:xlabel='stevilo_ocen', ylabel='ocena'>"
      ]
     },
     "execution_count": 37,
     "metadata": {},
     "output_type": "execute_result"
    },
    {
     "data": {
      "image/png": "[encoded data removed]",
      "text/plain": [
       "<Figure size 432x288 with 1 Axes>"
      ]
     },
     "metadata": {
      "needs_background": "light"
     },
     "output_type": "display_data"
    }
   ],
   "source": [
    "knjige.sort_values('ocena').plot.scatter(x='stevilo_ocen', y='ocena')"
   ]
  },
  {
   "cell_type": "markdown",
   "metadata": {},
   "source": [
    "Iz grafa se vidi da imajo povprečno knjige z več ocenami večjo oceno, vendar ta razlika ni pretirano velika."
   ]
  },
  {
   "cell_type": "markdown",
   "metadata": {},
   "source": [
    "### 5. Največkrat se pojavijo knjige s trdo vezavo (Hardcover)"
   ]
  },
  {
   "cell_type": "code",
   "execution_count": 56,
   "metadata": {},
   "outputs": [
    {
     "data": {
      "text/html": [
       "<div>\n",
       "<style scoped>\n",
       "    .dataframe tbody tr th:only-of-type {\n",
       "        vertical-align: middle;\n",
       "    }\n",
       "\n",
       "    .dataframe tbody tr th {\n",
       "        vertical-align: top;\n",
       "    }\n",
       "\n",
       "    .dataframe thead th {\n",
       "        text-align: right;\n",
       "    }\n",
       "</style>\n",
       "<table border=\"1\" class=\"dataframe\">\n",
       "  <thead>\n",
       "    <tr style=\"text-align: right;\">\n",
       "      <th></th>\n",
       "      <th>stevilo</th>\n",
       "    </tr>\n",
       "    <tr>\n",
       "      <th>format</th>\n",
       "      <th></th>\n",
       "    </tr>\n",
       "  </thead>\n",
       "  <tbody>\n",
       "    <tr>\n",
       "      <th>Board book</th>\n",
       "      <td>1</td>\n",
       "    </tr>\n",
       "    <tr>\n",
       "      <th>Leather Bound</th>\n",
       "      <td>1</td>\n",
       "    </tr>\n",
       "    <tr>\n",
       "      <th>ebook</th>\n",
       "      <td>6</td>\n",
       "    </tr>\n",
       "    <tr>\n",
       "      <th>Kindle Edition</th>\n",
       "      <td>26</td>\n",
       "    </tr>\n",
       "    <tr>\n",
       "      <th>Mass Market Paperback</th>\n",
       "      <td>48</td>\n",
       "    </tr>\n",
       "    <tr>\n",
       "      <th>Hardcover</th>\n",
       "      <td>130</td>\n",
       "    </tr>\n",
       "    <tr>\n",
       "      <th>Paperback</th>\n",
       "      <td>288</td>\n",
       "    </tr>\n",
       "  </tbody>\n",
       "</table>\n",
       "</div>"
      ],
      "text/plain": [
       "                       stevilo\n",
       "format                        \n",
       "Board book                   1\n",
       "Leather Bound                1\n",
       "ebook                        6\n",
       "Kindle Edition              26\n",
       "Mass Market Paperback       48\n",
       "Hardcover                  130\n",
       "Paperback                  288"
      ]
     },
     "execution_count": 56,
     "metadata": {},
     "output_type": "execute_result"
    }
   ],
   "source": [
    "stevilo_formata = knjige.groupby('format').size().sort_values().to_frame('stevilo')\n",
    "stevilo_formata"
   ]
  },
  {
   "cell_type": "markdown",
   "metadata": {},
   "source": [
    "Zgleda, da se največkrat pojavijo knjige z mehko vezavo, nato pa knjige s trdo vezavo, ki jih je pol manj."
   ]
  },
  {
   "cell_type": "markdown",
   "metadata": {},
   "source": [
    "### 6. Katero je bilo najbolje ocenjeno leto?"
   ]
  },
  {
   "cell_type": "code",
   "execution_count": 39,
   "metadata": {},
   "outputs": [
    {
     "data": {
      "text/html": [
       "<div>\n",
       "<style scoped>\n",
       "    .dataframe tbody tr th:only-of-type {\n",
       "        vertical-align: middle;\n",
       "    }\n",
       "\n",
       "    .dataframe tbody tr th {\n",
       "        vertical-align: top;\n",
       "    }\n",
       "\n",
       "    .dataframe thead th {\n",
       "        text-align: right;\n",
       "    }\n",
       "</style>\n",
       "<table border=\"1\" class=\"dataframe\">\n",
       "  <thead>\n",
       "    <tr style=\"text-align: right;\">\n",
       "      <th></th>\n",
       "      <th>povprecna_letna_ocena</th>\n",
       "    </tr>\n",
       "    <tr>\n",
       "      <th>leto</th>\n",
       "      <th></th>\n",
       "    </tr>\n",
       "  </thead>\n",
       "  <tbody>\n",
       "    <tr>\n",
       "      <th>650</th>\n",
       "      <td>4.3600</td>\n",
       "    </tr>\n",
       "    <tr>\n",
       "      <th>1895</th>\n",
       "      <td>3.9000</td>\n",
       "    </tr>\n",
       "    <tr>\n",
       "      <th>1923</th>\n",
       "      <td>4.2100</td>\n",
       "    </tr>\n",
       "    <tr>\n",
       "      <th>1942</th>\n",
       "      <td>4.2300</td>\n",
       "    </tr>\n",
       "    <tr>\n",
       "      <th>1949</th>\n",
       "      <td>4.1900</td>\n",
       "    </tr>\n",
       "    <tr>\n",
       "      <th>...</th>\n",
       "      <td>...</td>\n",
       "    </tr>\n",
       "    <tr>\n",
       "      <th>2017</th>\n",
       "      <td>4.1550</td>\n",
       "    </tr>\n",
       "    <tr>\n",
       "      <th>2018</th>\n",
       "      <td>4.0775</td>\n",
       "    </tr>\n",
       "    <tr>\n",
       "      <th>2019</th>\n",
       "      <td>4.1250</td>\n",
       "    </tr>\n",
       "    <tr>\n",
       "      <th>2020</th>\n",
       "      <td>4.3900</td>\n",
       "    </tr>\n",
       "    <tr>\n",
       "      <th>2021</th>\n",
       "      <td>4.9700</td>\n",
       "    </tr>\n",
       "  </tbody>\n",
       "</table>\n",
       "<p>56 rows × 1 columns</p>\n",
       "</div>"
      ],
      "text/plain": [
       "      povprecna_letna_ocena\n",
       "leto                       \n",
       "650                  4.3600\n",
       "1895                 3.9000\n",
       "1923                 4.2100\n",
       "1942                 4.2300\n",
       "1949                 4.1900\n",
       "...                     ...\n",
       "2017                 4.1550\n",
       "2018                 4.0775\n",
       "2019                 4.1250\n",
       "2020                 4.3900\n",
       "2021                 4.9700\n",
       "\n",
       "[56 rows x 1 columns]"
      ]
     },
     "execution_count": 39,
     "metadata": {},
     "output_type": "execute_result"
    }
   ],
   "source": [
    "letne_ocene = knjige.groupby('leto').mean().ocena.to_frame('povprecna_letna_ocena')\n",
    "letne_ocene"
   ]
  },
  {
   "cell_type": "code",
   "execution_count": 40,
   "metadata": {},
   "outputs": [
    {
     "data": {
      "text/html": [
       "<div>\n",
       "<style scoped>\n",
       "    .dataframe tbody tr th:only-of-type {\n",
       "        vertical-align: middle;\n",
       "    }\n",
       "\n",
       "    .dataframe tbody tr th {\n",
       "        vertical-align: top;\n",
       "    }\n",
       "\n",
       "    .dataframe thead th {\n",
       "        text-align: right;\n",
       "    }\n",
       "</style>\n",
       "<table border=\"1\" class=\"dataframe\">\n",
       "  <thead>\n",
       "    <tr style=\"text-align: right;\">\n",
       "      <th></th>\n",
       "      <th>povprecna_letna_ocena</th>\n",
       "    </tr>\n",
       "    <tr>\n",
       "      <th>leto</th>\n",
       "      <th></th>\n",
       "    </tr>\n",
       "  </thead>\n",
       "  <tbody>\n",
       "    <tr>\n",
       "      <th>1976</th>\n",
       "      <td>3.62</td>\n",
       "    </tr>\n",
       "    <tr>\n",
       "      <th>1957</th>\n",
       "      <td>3.81</td>\n",
       "    </tr>\n",
       "    <tr>\n",
       "      <th>1979</th>\n",
       "      <td>3.82</td>\n",
       "    </tr>\n",
       "    <tr>\n",
       "      <th>1972</th>\n",
       "      <td>3.83</td>\n",
       "    </tr>\n",
       "    <tr>\n",
       "      <th>1991</th>\n",
       "      <td>3.88</td>\n",
       "    </tr>\n",
       "    <tr>\n",
       "      <th>...</th>\n",
       "      <td>...</td>\n",
       "    </tr>\n",
       "    <tr>\n",
       "      <th>650</th>\n",
       "      <td>4.36</td>\n",
       "    </tr>\n",
       "    <tr>\n",
       "      <th>1973</th>\n",
       "      <td>4.37</td>\n",
       "    </tr>\n",
       "    <tr>\n",
       "      <th>1964</th>\n",
       "      <td>4.37</td>\n",
       "    </tr>\n",
       "    <tr>\n",
       "      <th>2020</th>\n",
       "      <td>4.39</td>\n",
       "    </tr>\n",
       "    <tr>\n",
       "      <th>2021</th>\n",
       "      <td>4.97</td>\n",
       "    </tr>\n",
       "  </tbody>\n",
       "</table>\n",
       "<p>56 rows × 1 columns</p>\n",
       "</div>"
      ],
      "text/plain": [
       "      povprecna_letna_ocena\n",
       "leto                       \n",
       "1976                   3.62\n",
       "1957                   3.81\n",
       "1979                   3.82\n",
       "1972                   3.83\n",
       "1991                   3.88\n",
       "...                     ...\n",
       "650                    4.36\n",
       "1973                   4.37\n",
       "1964                   4.37\n",
       "2020                   4.39\n",
       "2021                   4.97\n",
       "\n",
       "[56 rows x 1 columns]"
      ]
     },
     "execution_count": 40,
     "metadata": {},
     "output_type": "execute_result"
    }
   ],
   "source": [
    "letne_ocene.sort_values('povprecna_letna_ocena')"
   ]
  },
  {
   "cell_type": "markdown",
   "metadata": {},
   "source": [
    "Najbolje je bilo ocenjeno leto 2021, najmanj pa leto 1976. Še graf:"
   ]
  },
  {
   "cell_type": "code",
   "execution_count": 42,
   "metadata": {},
   "outputs": [
    {
     "data": {
      "text/plain": [
       "<AxesSubplot:xlabel='leto'>"
      ]
     },
     "execution_count": 42,
     "metadata": {},
     "output_type": "execute_result"
    },
    {
     "data": {
      "image/png": "[encoded data removed]",
      "text/plain": [
       "<Figure size 432x288 with 1 Axes>"
      ]
     },
     "metadata": {
      "needs_background": "light"
     },
     "output_type": "display_data"
    }
   ],
   "source": [
    "knjige.groupby('leto').mean().ocena.plot.bar()"
   ]
  },
  {
   "cell_type": "markdown",
   "metadata": {},
   "source": [
    "### 7. Boljšo oceno imajo knjige v zbirki kot samostojne knjige"
   ]
  },
  {
   "cell_type": "markdown",
   "metadata": {},
   "source": [
    "Najprej poglejmo koliko knjig je v zbirkah, koliko pa ne:"
   ]
  },
  {
   "cell_type": "code",
   "execution_count": 43,
   "metadata": {},
   "outputs": [
    {
     "data": {
      "text/plain": [
       "174"
      ]
     },
     "execution_count": 43,
     "metadata": {},
     "output_type": "execute_result"
    }
   ],
   "source": [
    "stevilo_knjig_v_zbirkah = knjige.count().zbirka\n",
    "stevilo_knjig_v_zbirkah"
   ]
  },
  {
   "cell_type": "code",
   "execution_count": 44,
   "metadata": {},
   "outputs": [
    {
     "data": {
      "text/plain": [
       "326"
      ]
     },
     "execution_count": 44,
     "metadata": {},
     "output_type": "execute_result"
    }
   ],
   "source": [
    "stevilo_knjig_brez_zbirke = 500 - stevilo_knjig_v_zbirkah\n",
    "stevilo_knjig_brez_zbirke"
   ]
  },
  {
   "cell_type": "markdown",
   "metadata": {},
   "source": [
    "Izmed 500ih knjig jih je več brez zbirke kot pa v zbirki."
   ]
  },
  {
   "cell_type": "code",
   "execution_count": 47,
   "metadata": {},
   "outputs": [
    {
     "data": {
      "text/plain": [
       "4.053098159509203"
      ]
     },
     "execution_count": 47,
     "metadata": {},
     "output_type": "execute_result"
    }
   ],
   "source": [
    "povprecje_knjig_brez_zbirke = knjige[pd.isnull(knjige['zbirka'])].mean().ocena\n",
    "povprecje_knjig_brez_zbirke"
   ]
  },
  {
   "cell_type": "code",
   "execution_count": 48,
   "metadata": {},
   "outputs": [
    {
     "data": {
      "text/plain": [
       "4.150689655172414"
      ]
     },
     "execution_count": 48,
     "metadata": {},
     "output_type": "execute_result"
    }
   ],
   "source": [
    "povprecje_knjig_v_zbirki = knjige[pd.notnull(knjige['zbirka'])].mean().ocena\n",
    "povprecje_knjig_v_zbirki"
   ]
  },
  {
   "cell_type": "markdown",
   "metadata": {},
   "source": [
    "Povprečno imajo knjige v zbirki boljšo oceno, vendar razlika ni presenetljivo velika."
   ]
  },
  {
   "cell_type": "markdown",
   "metadata": {},
   "source": [
    "### 8. Kateri žanr ima najboljšo povprečno oceno?"
   ]
  },
  {
   "cell_type": "code",
   "execution_count": 54,
   "metadata": {},
   "outputs": [
    {
     "data": {
      "text/html": [
       "<div>\n",
       "<style scoped>\n",
       "    .dataframe tbody tr th:only-of-type {\n",
       "        vertical-align: middle;\n",
       "    }\n",
       "\n",
       "    .dataframe tbody tr th {\n",
       "        vertical-align: top;\n",
       "    }\n",
       "\n",
       "    .dataframe thead th {\n",
       "        text-align: right;\n",
       "    }\n",
       "</style>\n",
       "<table border=\"1\" class=\"dataframe\">\n",
       "  <thead>\n",
       "    <tr style=\"text-align: right;\">\n",
       "      <th></th>\n",
       "      <th>povprecna_ocena_zanra</th>\n",
       "    </tr>\n",
       "    <tr>\n",
       "      <th>zanr</th>\n",
       "      <th></th>\n",
       "    </tr>\n",
       "  </thead>\n",
       "  <tbody>\n",
       "    <tr>\n",
       "      <th>Travel</th>\n",
       "      <td>3.860000</td>\n",
       "    </tr>\n",
       "    <tr>\n",
       "      <th>Novels</th>\n",
       "      <td>3.880000</td>\n",
       "    </tr>\n",
       "    <tr>\n",
       "      <th>Plays</th>\n",
       "      <td>3.947500</td>\n",
       "    </tr>\n",
       "    <tr>\n",
       "      <th>Academic</th>\n",
       "      <td>3.960000</td>\n",
       "    </tr>\n",
       "    <tr>\n",
       "      <th>Classics</th>\n",
       "      <td>3.974044</td>\n",
       "    </tr>\n",
       "    <tr>\n",
       "      <th>...</th>\n",
       "      <td>...</td>\n",
       "    </tr>\n",
       "    <tr>\n",
       "      <th>Thriller</th>\n",
       "      <td>4.320000</td>\n",
       "    </tr>\n",
       "    <tr>\n",
       "      <th>Religion</th>\n",
       "      <td>4.360000</td>\n",
       "    </tr>\n",
       "    <tr>\n",
       "      <th>Sequential Art</th>\n",
       "      <td>4.475000</td>\n",
       "    </tr>\n",
       "    <tr>\n",
       "      <th>Christian Fiction</th>\n",
       "      <td>4.490000</td>\n",
       "    </tr>\n",
       "    <tr>\n",
       "      <th>Short Stories</th>\n",
       "      <td>4.545000</td>\n",
       "    </tr>\n",
       "  </tbody>\n",
       "</table>\n",
       "<p>24 rows × 1 columns</p>\n",
       "</div>"
      ],
      "text/plain": [
       "                   povprecna_ocena_zanra\n",
       "zanr                                    \n",
       "Travel                          3.860000\n",
       "Novels                          3.880000\n",
       "Plays                           3.947500\n",
       "Academic                        3.960000\n",
       "Classics                        3.974044\n",
       "...                                  ...\n",
       "Thriller                        4.320000\n",
       "Religion                        4.360000\n",
       "Sequential Art                  4.475000\n",
       "Christian Fiction               4.490000\n",
       "Short Stories                   4.545000\n",
       "\n",
       "[24 rows x 1 columns]"
      ]
     },
     "execution_count": 54,
     "metadata": {},
     "output_type": "execute_result"
    }
   ],
   "source": [
    "stevilo_knjig_po_zanru = knjige.groupby('zanr').mean().ocena.sort_values().to_frame('povprecna_ocena_zanra')\n",
    "stevilo_knjig_po_zanru"
   ]
  },
  {
   "cell_type": "markdown",
   "metadata": {},
   "source": [
    "Najboljše so ocenjene kratke zgodbe, sledi jim krščanska fikcija, najslabšo povprečno oceno imajo knjige o potovanjih. Na grafu:"
   ]
  },
  {
   "cell_type": "code",
   "execution_count": 55,
   "metadata": {},
   "outputs": [
    {
     "data": {
      "text/plain": [
       "<AxesSubplot:xlabel='zanr'>"
      ]
     },
     "execution_count": 55,
     "metadata": {},
     "output_type": "execute_result"
    },
    {
     "data": {
      "image/png": "[encoded data removed]",
      "text/plain": [
       "<Figure size 432x288 with 1 Axes>"
      ]
     },
     "metadata": {
      "needs_background": "light"
     },
     "output_type": "display_data"
    }
   ],
   "source": [
    "stevilo_knjig_po_zanru.plot.bar()"
   ]
  },
  {
   "cell_type": "markdown",
   "metadata": {},
   "source": [
    "### 9. Kateri žanr je največkrat ocenjen?"
   ]
  },
  {
   "cell_type": "code",
   "execution_count": 62,
   "metadata": {},
   "outputs": [
    {
     "data": {
      "text/html": [
       "<div>\n",
       "<style scoped>\n",
       "    .dataframe tbody tr th:only-of-type {\n",
       "        vertical-align: middle;\n",
       "    }\n",
       "\n",
       "    .dataframe tbody tr th {\n",
       "        vertical-align: top;\n",
       "    }\n",
       "\n",
       "    .dataframe thead th {\n",
       "        text-align: right;\n",
       "    }\n",
       "</style>\n",
       "<table border=\"1\" class=\"dataframe\">\n",
       "  <thead>\n",
       "    <tr style=\"text-align: right;\">\n",
       "      <th></th>\n",
       "      <th>stevilo</th>\n",
       "    </tr>\n",
       "    <tr>\n",
       "      <th>zanr</th>\n",
       "      <th></th>\n",
       "    </tr>\n",
       "  </thead>\n",
       "  <tbody>\n",
       "    <tr>\n",
       "      <th>Short Stories</th>\n",
       "      <td>4869</td>\n",
       "    </tr>\n",
       "    <tr>\n",
       "      <th>Travel</th>\n",
       "      <td>13377</td>\n",
       "    </tr>\n",
       "    <tr>\n",
       "      <th>Religion</th>\n",
       "      <td>61188</td>\n",
       "    </tr>\n",
       "    <tr>\n",
       "      <th>Science</th>\n",
       "      <td>108586</td>\n",
       "    </tr>\n",
       "    <tr>\n",
       "      <th>Thriller</th>\n",
       "      <td>120835</td>\n",
       "    </tr>\n",
       "    <tr>\n",
       "      <th>...</th>\n",
       "      <td>...</td>\n",
       "    </tr>\n",
       "    <tr>\n",
       "      <th>Nonfiction</th>\n",
       "      <td>12566845</td>\n",
       "    </tr>\n",
       "    <tr>\n",
       "      <th>Young Adult</th>\n",
       "      <td>57154436</td>\n",
       "    </tr>\n",
       "    <tr>\n",
       "      <th>Fiction</th>\n",
       "      <td>59825276</td>\n",
       "    </tr>\n",
       "    <tr>\n",
       "      <th>Fantasy</th>\n",
       "      <td>76870035</td>\n",
       "    </tr>\n",
       "    <tr>\n",
       "      <th>Classics</th>\n",
       "      <td>93237952</td>\n",
       "    </tr>\n",
       "  </tbody>\n",
       "</table>\n",
       "<p>24 rows × 1 columns</p>\n",
       "</div>"
      ],
      "text/plain": [
       "                stevilo\n",
       "zanr                   \n",
       "Short Stories      4869\n",
       "Travel            13377\n",
       "Religion          61188\n",
       "Science          108586\n",
       "Thriller         120835\n",
       "...                 ...\n",
       "Nonfiction     12566845\n",
       "Young Adult    57154436\n",
       "Fiction        59825276\n",
       "Fantasy        76870035\n",
       "Classics       93237952\n",
       "\n",
       "[24 rows x 1 columns]"
      ]
     },
     "execution_count": 62,
     "metadata": {},
     "output_type": "execute_result"
    }
   ],
   "source": [
    "stevilo_ocen_zanra = knjige.groupby('zanr').sum().stevilo_ocen.sort_values().to_frame('stevilo')\n",
    "stevilo_ocen_zanra"
   ]
  },
  {
   "cell_type": "markdown",
   "metadata": {},
   "source": [
    "Največkrat so bile ocenjene klasične knjige, nato fantazijske in fikcija, najmanj pa kratke zgodbe."
   ]
  },
  {
   "cell_type": "markdown",
   "metadata": {},
   "source": [
    "### 10. Kateri žanr ima povprečno najdaljše knjige?"
   ]
  },
  {
   "cell_type": "code",
   "execution_count": 63,
   "metadata": {},
   "outputs": [
    {
     "data": {
      "text/html": [
       "<div>\n",
       "<style scoped>\n",
       "    .dataframe tbody tr th:only-of-type {\n",
       "        vertical-align: middle;\n",
       "    }\n",
       "\n",
       "    .dataframe tbody tr th {\n",
       "        vertical-align: top;\n",
       "    }\n",
       "\n",
       "    .dataframe thead th {\n",
       "        text-align: right;\n",
       "    }\n",
       "</style>\n",
       "<table border=\"1\" class=\"dataframe\">\n",
       "  <thead>\n",
       "    <tr style=\"text-align: right;\">\n",
       "      <th></th>\n",
       "      <th>povprecno_stevilo_strani</th>\n",
       "    </tr>\n",
       "    <tr>\n",
       "      <th>zanr</th>\n",
       "      <th></th>\n",
       "    </tr>\n",
       "  </thead>\n",
       "  <tbody>\n",
       "    <tr>\n",
       "      <th>Childrens</th>\n",
       "      <td>77.928571</td>\n",
       "    </tr>\n",
       "    <tr>\n",
       "      <th>Plays</th>\n",
       "      <td>117.500000</td>\n",
       "    </tr>\n",
       "    <tr>\n",
       "      <th>Thriller</th>\n",
       "      <td>163.500000</td>\n",
       "    </tr>\n",
       "    <tr>\n",
       "      <th>Short Stories</th>\n",
       "      <td>170.000000</td>\n",
       "    </tr>\n",
       "    <tr>\n",
       "      <th>Academic</th>\n",
       "      <td>219.000000</td>\n",
       "    </tr>\n",
       "    <tr>\n",
       "      <th>...</th>\n",
       "      <td>...</td>\n",
       "    </tr>\n",
       "    <tr>\n",
       "      <th>Fantasy</th>\n",
       "      <td>574.940476</td>\n",
       "    </tr>\n",
       "    <tr>\n",
       "      <th>Religion</th>\n",
       "      <td>604.000000</td>\n",
       "    </tr>\n",
       "    <tr>\n",
       "      <th>Sequential Art</th>\n",
       "      <td>616.000000</td>\n",
       "    </tr>\n",
       "    <tr>\n",
       "      <th>Science</th>\n",
       "      <td>703.000000</td>\n",
       "    </tr>\n",
       "    <tr>\n",
       "      <th>Novels</th>\n",
       "      <td>1023.000000</td>\n",
       "    </tr>\n",
       "  </tbody>\n",
       "</table>\n",
       "<p>24 rows × 1 columns</p>\n",
       "</div>"
      ],
      "text/plain": [
       "                povprecno_stevilo_strani\n",
       "zanr                                    \n",
       "Childrens                      77.928571\n",
       "Plays                         117.500000\n",
       "Thriller                      163.500000\n",
       "Short Stories                 170.000000\n",
       "Academic                      219.000000\n",
       "...                                  ...\n",
       "Fantasy                       574.940476\n",
       "Religion                      604.000000\n",
       "Sequential Art                616.000000\n",
       "Science                       703.000000\n",
       "Novels                       1023.000000\n",
       "\n",
       "[24 rows x 1 columns]"
      ]
     },
     "execution_count": 63,
     "metadata": {},
     "output_type": "execute_result"
    }
   ],
   "source": [
    "povp_stevilo_strani_po_zanru = knjige.groupby('zanr').mean().stevilo_strani.sort_values().to_frame('povprecno_stevilo_strani')\n",
    "povp_stevilo_strani_po_zanru"
   ]
  },
  {
   "cell_type": "markdown",
   "metadata": {},
   "source": [
    "Najdaljši so v povprečju romani, najkrajše pa knjige za otroke."
   ]
  },
  {
   "cell_type": "code",
   "execution_count": 64,
   "metadata": {},
   "outputs": [
    {
     "data": {
      "text/plain": [
       "<AxesSubplot:xlabel='zanr'>"
      ]
     },
     "execution_count": 64,
     "metadata": {},
     "output_type": "execute_result"
    },
    {
     "data": {
      "image/png": "[encoded data removed]",
      "text/plain": [
       "<Figure size 432x288 with 1 Axes>"
      ]
     },
     "metadata": {
      "needs_background": "light"
     },
     "output_type": "display_data"
    }
   ],
   "source": [
    "povp_stevilo_strani_po_zanru.plot.bar()"
   ]
  }
 ],
 "metadata": {
  "kernelspec": {
   "display_name": "Python 3",
   "language": "python",
   "name": "python3"
  },
  "language_info": {
   "codemirror_mode": {
    "name": "ipython",
    "version": 3
   },
   "file_extension": ".py",
   "mimetype": "text/x-python",
   "name": "python",
   "nbconvert_exporter": "python",
   "pygments_lexer": "ipython3",
   "version": "3.8.6"
  }
 },
 "nbformat": 4,
 "nbformat_minor": 4
}
